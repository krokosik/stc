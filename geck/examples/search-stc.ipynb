{
 "cells": [
  {
   "cell_type": "markdown",
   "source": [
    "# Examples\n",
    "\n",
    "Connects to IPFS and instantiate configured indices for searching\n",
    "It will take a time depending on your IPFS performance"
   ],
   "metadata": {
    "collapsed": false
   }
  },
  {
   "cell_type": "code",
   "execution_count": null,
   "outputs": [],
   "source": [
    "from libstc_geck.client import StcGeck\n",
    "geck = StcGeck(\n",
    "    ipfs_http_base_url='http://127.0.0.1:8080',\n",
    "    index_names=('stc',),\n",
    "    timeout=300,\n",
    ")\n",
    "await geck.start()"
   ],
   "metadata": {
    "collapsed": false
   }
  },
  {
   "cell_type": "markdown",
   "source": [
    "GECK encapsulates Python client to Summa. It can be either external stand-alone server or embed server, but details are hidden behind `SummaClient` interface."
   ],
   "metadata": {
    "collapsed": false
   }
  },
  {
   "cell_type": "code",
   "execution_count": null,
   "outputs": [],
   "source": [
    "summa_client = geck.get_summa_client()"
   ],
   "metadata": {
    "collapsed": false
   }
  },
  {
   "cell_type": "markdown",
   "source": [
    "Match search returns top-5 documents which contain `additive manufacturing` in their title, abstract or content."
   ],
   "metadata": {
    "collapsed": false
   }
  },
  {
   "cell_type": "code",
   "execution_count": null,
   "outputs": [],
   "source": [
    "import json\n",
    "\n",
    "search_response = await summa_client.search([{\n",
    "    \"index_alias\": \"stc\",\n",
    "    \"query\": {\n",
    "        \"match\": {\n",
    "            \"value\": \"additive manufacturing\",\n",
    "            \"query_parser_config\": {\"default_fields\": [\"abstract\", \"title\", \"content\"]}\n",
    "        }\n",
    "    },\n",
    "    \"collectors\": [{\"top_docs\": {\"limit\": 5}}],\n",
    "    \"is_fieldnorms_scoring_enabled\": False,\n",
    "}])\n",
    "for scored_document in search_response.collector_outputs[0].documents.scored_documents:\n",
    "    document = json.loads(scored_document.document)\n",
    "    print('DOI:', document['doi'])\n",
    "    print('Title:', document['title'])\n",
    "    print('Abstract:', document.get('abstract'))\n",
    "    print('Links:', document.get('links'))\n",
    "    print('-----')"
   ],
   "metadata": {
    "collapsed": false
   }
  },
  {
   "cell_type": "markdown",
   "source": [
    "Let's download PDFs. `links` field of the document contains IPFS hashes of files with articles. So firtly we check if the link is present and then download this file."
   ],
   "metadata": {
    "collapsed": false
   }
  },
  {
   "cell_type": "code",
   "execution_count": null,
   "outputs": [],
   "source": [
    "from urllib.parse import quote\n",
    "\n",
    "for scored_document in search_response.collector_outputs[0].documents.scored_documents:\n",
    "    document = json.loads(scored_document.document)\n",
    "    if 'links' not in document:\n",
    "        continue\n",
    "    link = document['links'][0]\n",
    "    with open(quote(document['doi'], safe='') + '.' + link['extension'], 'wb') as f:\n",
    "        pdf_file = await geck.download(link['cid'])\n",
    "        f.write(pdf_file)"
   ],
   "metadata": {
    "collapsed": false
   }
  },
  {
   "cell_type": "markdown",
   "source": [
    "Below we have several more examples of search queries. More documentation on how to do queries to Summa can be found at https://izihawa.github.io/summa/core/query-dsl/"
   ],
   "metadata": {
    "collapsed": false
   }
  },
  {
   "cell_type": "code",
   "execution_count": null,
   "outputs": [],
   "source": [
    "# Term search in science collection\n",
    "await summa_client.search([{\n",
    "    \"index_alias\": \"stc\",\n",
    "    \"query\": {\"term\": {\"field\": \"doi\", \"value\": \"10.1109/healthcom54947.2022.9982758\"}},\n",
    "    \"collectors\": [{\"top_docs\": {\"limit\": 1}}],\n",
    "    \"is_fieldnorms_scoring_enabled\": False,\n",
    "}])"
   ],
   "metadata": {
    "collapsed": false
   }
  },
  {
   "cell_type": "code",
   "execution_count": null,
   "outputs": [],
   "source": [
    "# Complex query and count results too\n",
    "await summa_client.search([{\n",
    "    \"index_alias\": \"stc\",\n",
    "    \"query\": {\"boolean\": {\"subqueries\": [{\n",
    "        \"occur\": \"should\",\n",
    "        \"query\": {\n",
    "            \"match\": {\n",
    "                \"value\": \"hemoglobin\",\n",
    "                \"query_parser_config\": {\"default_fields\": [\"title\"]},\n",
    "             },\n",
    "        },\n",
    "    }, {\n",
    "        \"occur\": \"should\",\n",
    "        \"query\": {\n",
    "            \"match\": {\n",
    "                \"value\": \"fetal\",\n",
    "                \"query_parser_config\": {\"default_fields\": [\"title\"]},\n",
    "            },\n",
    "        },\n",
    "    }]}},\n",
    "    \"collectors\": [{\"top_docs\": {\"limit\": 5}}, {\"count\": {}}],\n",
    "    \"is_fieldnorms_scoring_enabled\": False,\n",
    "}])"
   ],
   "metadata": {
    "collapsed": false
   }
  }
 ],
 "metadata": {
  "kernelspec": {
   "display_name": "Python 3",
   "language": "python",
   "name": "python3"
  },
  "language_info": {
   "codemirror_mode": {
    "name": "ipython",
    "version": 2
   },
   "file_extension": ".py",
   "mimetype": "text/x-python",
   "name": "python",
   "nbconvert_exporter": "python",
   "pygments_lexer": "ipython2",
   "version": "2.7.6"
  }
 },
 "nbformat": 4,
 "nbformat_minor": 0
}
